{
 "cells": [
  {
   "cell_type": "code",
   "execution_count": 1,
   "metadata": {},
   "outputs": [
    {
     "name": "stdout",
     "output_type": "stream",
     "text": [
      "The area of the Triangle with sides 3, 4 and 5 is 6\n"
     ]
    }
   ],
   "source": [
    "#Python Program to find the area of a triangle when the 3 sides are given\n",
    "#Define a class to get the sides of the triangle. This is the parent/super class. \n",
    "#Let side1, side2 and side3 be the sides of the triangle. \n",
    "class GetSides:\n",
    "    def __init__(self,side1,side2,side3):\n",
    "        self.side1=side1\n",
    "        self.side2=side2\n",
    "        self.side3=side3\n",
    "\n",
    "#CalculateArea is the subclass to find the area of the traingle. It inherits from the super/parent class GetSides\n",
    "#Area of the triangle = (s(s-a)(s-b)(s-c))**0.5\n",
    "#Calculate s using the formula s=0.5* (side1 + side2 + side3)\n",
    "#Initialize the sides from the super class. getarea function will calculate the area. \n",
    "class CalculateArea(GetSides):\n",
    "    def __init__(self,*args,**kwargs):\n",
    "        super(CalculateArea,self).__init__(*args,**kwargs)\n",
    "        \n",
    "    def getarea(self):\n",
    "        s=0.5*(self.side1 + self.side2 + self.side3)\n",
    "        return (s*(s-self.side1)*(s-self.side2)*(s-self.side3))**0.5\n",
    "    \n",
    "    def printarea(self):\n",
    "        area = self.getarea()\n",
    "        print('The area of the Triangle with sides %s, %s and %s is %d' %(self.side1, self.side2, self.side3, area))\n",
    "    \n",
    "# Define an object of the class CalculateArea and print the area.  \n",
    "triangle1=CalculateArea(3,4,5)\n",
    "triangle1.printarea()\n"
   ]
  },
  {
   "cell_type": "code",
   "execution_count": 2,
   "metadata": {},
   "outputs": [
    {
     "data": {
      "text/plain": [
       "['This', 'test', 'list', 'find', 'long', 'words']"
      ]
     },
     "execution_count": 2,
     "metadata": {},
     "output_type": "execute_result"
    }
   ],
   "source": [
    "#Function to take in a list of words and an integer and return the list of words that are longer than n\n",
    "def filter_long_words(listofwords,length):\n",
    "    longwords=[words for words in listofwords if len(words) > length]\n",
    "    return longwords\n",
    "\n",
    "# Calling the function to find the words longer the value provided. \n",
    "listofwords=['This','is','a','test','list','to','find','long','words']\n",
    "filter_long_words(listofwords,2)"
   ]
  },
  {
   "cell_type": "code",
   "execution_count": 3,
   "metadata": {},
   "outputs": [
    {
     "name": "stdout",
     "output_type": "stream",
     "text": [
      "[2, 3, 4]\n",
      "[4, 2, 1, 1, 4, 3, 7, 8]\n"
     ]
    }
   ],
   "source": [
    "#Accept a list of strings and return a list with the length of the strings provided\n",
    "def find_length(string):\n",
    "    return len(string)\n",
    "\n",
    "# Calling the function to calculate the length of the strings in the list\n",
    "listforlen=['ab','cde','erty']\n",
    "print(list(map(find_length,listforlen)))\n",
    "list2=['this','is',' ','a','test','for','lengths','function']\n",
    "print(list(map(find_length,list2)))"
   ]
  },
  {
   "cell_type": "code",
   "execution_count": 4,
   "metadata": {},
   "outputs": [
    {
     "name": "stdout",
     "output_type": "stream",
     "text": [
      "True\n",
      "True\n",
      "False\n",
      "False\n",
      "False\n",
      "False\n",
      "True\n",
      "True\n"
     ]
    }
   ],
   "source": [
    "#Python function to take a character and return True if its Vowel and False if not a vowel\n",
    "def is_vowel(string):\n",
    "    listofvowels=['A','E','I','O','U']\n",
    "    for i in listofvowels:\n",
    "        if string.upper()==i:\n",
    "            return 'True'\n",
    "            break\n",
    "    else:\n",
    "        return 'False'\n",
    "\n",
    "#Test the function for characters\n",
    "print(is_vowel('A'))\n",
    "print(is_vowel('a'))\n",
    "print(is_vowel('c'))\n",
    "print(is_vowel('C'))\n",
    "print(is_vowel('d'))\n",
    "print(is_vowel('D'))\n",
    "print(is_vowel('E'))\n",
    "print(is_vowel('e'))"
   ]
  },
  {
   "cell_type": "code",
   "execution_count": null,
   "metadata": {},
   "outputs": [],
   "source": []
  }
 ],
 "metadata": {
  "kernelspec": {
   "display_name": "Python 3",
   "language": "python",
   "name": "python3"
  },
  "language_info": {
   "codemirror_mode": {
    "name": "ipython",
    "version": 3
   },
   "file_extension": ".py",
   "mimetype": "text/x-python",
   "name": "python",
   "nbconvert_exporter": "python",
   "pygments_lexer": "ipython3",
   "version": "3.6.5"
  }
 },
 "nbformat": 4,
 "nbformat_minor": 2
}
